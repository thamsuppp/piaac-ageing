{
 "cells": [
  {
   "cell_type": "markdown",
   "metadata": {},
   "source": [
    "# PIAAC Data Processing\n",
    "\n",
    "- This notebook processes the raw PIAAC data from multiple countries and combines them together using the helper functions in process_data.py to create the combined dataset\n",
    "\n",
    "Standardized and cleaned 25 Aug"
   ]
  },
  {
   "cell_type": "code",
   "execution_count": 1,
   "metadata": {
    "ExecuteTime": {
     "end_time": "2020-08-25T04:09:33.383354Z",
     "start_time": "2020-08-25T04:09:31.196164Z"
    }
   },
   "outputs": [],
   "source": [
    "import pandas as pd\n",
    "from process_data import *"
   ]
  },
  {
   "cell_type": "code",
   "execution_count": 2,
   "metadata": {
    "ExecuteTime": {
     "end_time": "2020-08-25T03:50:03.158604Z",
     "start_time": "2020-08-25T03:38:38.005129Z"
    },
    "scrolled": true
   },
   "outputs": [
    {
     "name": "stdout",
     "output_type": "stream",
     "text": [
      "bel\n"
     ]
    },
    {
     "name": "stderr",
     "output_type": "stream",
     "text": [
      "C:\\Users\\isaac\\Anaconda3\\lib\\site-packages\\IPython\\core\\interactiveshell.py:3337: DtypeWarning: Columns (9,10,75,118,240,251,252,253,254,255,256,257,258,259,260,261,262,263,264,265,266,267,268,269,270,271,281,282,283,284,285,286,287,288,289,290,291,292,293,294,295,296,299,308,309,315,316,317,320,321,379,384,385,388,392,399,401,409,410,411,421,422,427,437,441,445,449,453,457,461,465,469,473,477,481,485,501,509,513,521,525,529,533,537,541,545,557,565,569,573,577,581,585,589,605,609,613,617,633,637,641,645,653,657,661,665,669,673,677,689,693,701,705,709,713,717,721,725,729,733,737,741,745,749,753,757,765,773,781,785,789,793,797,801,805,813,821,825,829,833,837,841,845,849,909,910,911,912,913,914,915,917,918,919,920,921,922,923,924,925,937,938,939,940,941,942,943,944,945,946,947,948,949,950,951,952,953,954,955,956,958,960,962,964,966,968,970,972,974,976,978,980,982,984,986,988,990,992,994,996,998,1000,1002,1004,1006,1008,1010,1012,1014,1016,1018,1020,1022,1024,1026,1028,1030,1032,1034,1036,1038,1040,1042,1044,1046,1048,1050,1052,1054,1056,1058,1060,1062,1064,1066,1068,1070,1072,1074,1286) have mixed types.Specify dtype option on import or set low_memory=False.\n",
      "  if (await self.run_code(code, result,  async_=asy)):\n"
     ]
    },
    {
     "name": "stdout",
     "output_type": "stream",
     "text": [
      "bel done\n",
      "cze\n"
     ]
    },
    {
     "name": "stderr",
     "output_type": "stream",
     "text": [
      "C:\\Users\\isaac\\Anaconda3\\lib\\site-packages\\IPython\\core\\interactiveshell.py:3337: DtypeWarning: Columns (6,7,8,9,10,21,22,23,75,104,106,107,108,117,118,240,251,252,253,254,255,256,257,258,259,260,261,262,263,264,265,266,267,268,269,270,271,281,282,283,284,285,286,287,288,289,290,291,292,293,294,295,296,299,308,309,315,379,384,385,388,405,409,410,411,414,421,422,426,427,437,441,445,449,453,457,461,465,469,473,477,481,485,489,493,497,501,505,509,513,517,521,525,529,533,537,541,545,557,561,565,569,573,577,581,585,589,593,597,601,605,609,613,617,621,625,629,637,645,657,661,665,669,673,677,681,689,693,697,701,705,709,713,717,721,725,729,733,737,741,749,753,757,761,765,769,773,781,785,793,797,801,805,809,813,817,821,829,833,837,841,845,849,909,910,911,912,913,914,915,916,917,918,919,920,921,922,923,924,925,926,927,928,929,930,940,941,942,943,944,945,946,947,948,949,950,951,952,953,954,955,956,958,960,962,964,966,968,970,972,974,976,978,980,982,984,986,988,990,992,994,996,998,1000,1002,1004,1006,1008,1010,1012,1014,1016,1018,1020,1022,1024,1026,1028,1030,1032,1034,1036,1038,1040,1042,1044,1046,1048,1050,1052,1054,1056,1058,1060,1062,1064,1066,1068,1070,1072,1074,1076,1078,1080,1082,1084,1086,1088,1090,1092,1094,1096,1098,1100,1102,1104,1106,1108,1110,1112,1114,1116,1118,1120,1122,1124,1126,1128,1130,1132,1134,1136,1138,1140,1142,1144,1146,1148,1150,1152,1154,1156,1286,1304) have mixed types.Specify dtype option on import or set low_memory=False.\n",
      "  if (await self.run_code(code, result,  async_=asy)):\n"
     ]
    },
    {
     "name": "stdout",
     "output_type": "stream",
     "text": [
      "cze done\n",
      "dnk\n"
     ]
    },
    {
     "name": "stderr",
     "output_type": "stream",
     "text": [
      "C:\\Users\\isaac\\Anaconda3\\lib\\site-packages\\IPython\\core\\interactiveshell.py:3337: DtypeWarning: Columns (8,9,10,21,22,23,75,104,106,107,108,117,118,240,251,252,253,254,255,256,257,258,259,260,261,262,263,264,265,266,267,268,269,270,271,281,282,283,284,286,287,289,290,291,292,293,294,295,296,299,308,309,316,317,320,321,324,375,379,380,384,385,388,389,390,392,393,395,396,397,398,399,401,409,410,411,414,421,422,426,427,432,433,434,435,436,437,441,445,449,453,457,461,465,469,473,477,485,489,493,501,505,509,513,525,529,537,541,545,565,577,581,585,589,597,601,609,613,629,633,637,641,645,653,657,661,665,669,673,677,681,685,689,693,697,701,705,709,713,721,725,729,733,737,741,745,749,753,757,761,765,769,773,777,781,785,789,793,797,801,805,809,821,825,829,837,841,849,897,898,899,900,901,902,903,904,906,907,908,909,910,911,912,913,914,915,916,917,918,937,938,939,940,941,942,943,944,945,946,947,948,949,950,951,952,953,954,955,958,960,962,964,966,968,970,972,974,976,978,980,982,984,986,988,990,992,994,996,998,1000,1002,1004,1006,1008,1010,1012,1014,1016,1018,1020,1022,1024,1026,1028,1030,1032,1034,1036,1038,1040,1042,1044,1046,1048,1050,1052,1054,1056,1058,1060,1062,1064,1066,1068,1286,1318) have mixed types.Specify dtype option on import or set low_memory=False.\n",
      "  if (await self.run_code(code, result,  async_=asy)):\n"
     ]
    },
    {
     "name": "stdout",
     "output_type": "stream",
     "text": [
      "dnk done\n",
      "fin\n"
     ]
    },
    {
     "name": "stderr",
     "output_type": "stream",
     "text": [
      "C:\\Users\\isaac\\Anaconda3\\lib\\site-packages\\IPython\\core\\interactiveshell.py:3337: DtypeWarning: Columns (7,14,15,16,17,21,107,108,117,118,240,251,252,253,254,255,256,257,258,259,260,261,262,263,264,265,266,267,268,269,271,282,286,287,289,291,292,294,295,296,299,308,309,315,316,317,320,321,324,401,405,421,422,427,437,441,445,449,453,457,461,465,469,473,477,485,489,493,497,501,505,509,513,517,525,529,533,537,541,545,557,561,565,573,577,581,585,589,593,597,601,605,609,613,633,637,641,645,653,661,665,669,673,677,681,685,689,693,697,701,705,709,713,717,721,725,729,733,737,741,745,749,753,757,761,765,769,773,777,781,785,789,793,797,801,805,809,813,821,825,829,833,837,841,845,849,896,897,898,899,900,901,902,903,904,906,907,908,909,910,911,912,913,914,915,916,917,918,919,920,921,922,923,924,925,926,927,937,938,939,940,941,942,943,944,945,946,947,948,949,950,951,952,953,954,955,956,1286,1318) have mixed types.Specify dtype option on import or set low_memory=False.\n",
      "  if (await self.run_code(code, result,  async_=asy)):\n"
     ]
    },
    {
     "name": "stdout",
     "output_type": "stream",
     "text": [
      "fin done\n",
      "fra\n"
     ]
    },
    {
     "name": "stderr",
     "output_type": "stream",
     "text": [
      "C:\\Users\\isaac\\Anaconda3\\lib\\site-packages\\IPython\\core\\interactiveshell.py:3337: DtypeWarning: Columns (8,21,22,23,75,104,106,107,108,117,118,240,251,252,253,254,255,256,257,258,259,260,262,263,264,265,266,267,268,269,270,271,287,291,292,299,308,309,315,379,380,388,389,390,392,393,395,396,397,398,399,409,410,411,414,421,422,426,427,437,441,445,449,453,457,461,469,473,477,501,509,513,529,533,541,577,581,585,589,597,605,609,613,637,641,645,653,657,661,665,669,673,677,689,693,697,705,709,713,721,725,729,733,737,741,745,749,753,757,761,765,769,773,781,785,793,797,805,821,829,833,837,849,909,910,911,912,913,914,917,937,938,939,940,941,942,943,944,945,946,947,948,949,950,951,952,953,1286) have mixed types.Specify dtype option on import or set low_memory=False.\n",
      "  if (await self.run_code(code, result,  async_=asy)):\n"
     ]
    },
    {
     "name": "stdout",
     "output_type": "stream",
     "text": [
      "fra done\n",
      "gbr\n"
     ]
    },
    {
     "name": "stderr",
     "output_type": "stream",
     "text": [
      "C:\\Users\\isaac\\Anaconda3\\lib\\site-packages\\IPython\\core\\interactiveshell.py:3337: DtypeWarning: Columns (75,107,108,118,251,252,253,254,255,256,257,258,259,260,261,263,265,266,267,268,270,271,282,283,284,285,286,287,288,289,290,291,292,293,294,295,296,299,308,309,315,316,317,320,321,324,380,389,390,392,393,395,396,397,398,399,401,409,410,411,414,421,422,427,437,441,445,449,453,457,461,465,469,473,477,481,485,489,493,497,501,505,509,513,517,529,537,541,545,549,553,557,565,577,581,585,589,597,601,605,609,613,617,625,629,633,637,645,653,657,661,665,669,673,677,689,693,697,701,705,709,713,717,721,725,729,733,737,741,745,749,753,757,761,765,769,773,777,781,785,789,793,797,801,805,821,829,833,837,841,845,849,897,899,900,901,902,903,904,907,908,909,910,911,912,913,914,915,917,918,919,920,921,922,923,924,925,926,927,937,938,939,940,941,942,943,944,945,946,947,948,949,950,951,952,953,954,955,956,958,960,962,964,966,968,970,972,974,976,978,980,982,984,986,988,990,992,994,996,998,1000,1002,1004,1006,1008,1010,1012,1014,1016,1018,1020,1022,1024,1026,1028,1030,1032,1034,1036,1038,1040,1042,1044,1046,1048,1050,1052,1054,1056,1058,1060,1062,1064,1066,1068,1070,1072,1074,1076,1078,1080,1082,1084,1086,1088,1090,1092,1094,1096,1098,1100,1102,1104,1106,1286,1304,1318) have mixed types.Specify dtype option on import or set low_memory=False.\n",
      "  if (await self.run_code(code, result,  async_=asy)):\n"
     ]
    },
    {
     "name": "stdout",
     "output_type": "stream",
     "text": [
      "gbr done\n",
      "jpn\n"
     ]
    },
    {
     "name": "stderr",
     "output_type": "stream",
     "text": [
      "C:\\Users\\isaac\\Anaconda3\\lib\\site-packages\\IPython\\core\\interactiveshell.py:3337: DtypeWarning: Columns (9,10,14,15,16,75,107,108,118,240,251,252,253,254,255,256,257,258,259,260,261,262,263,264,265,266,267,268,269,270,271,281,282,283,284,285,286,287,288,289,290,291,292,293,294,295,296,299,308,309,315,316,317,379,380,384,385,388,389,390,392,393,395,396,397,398,399,409,410,411,414,421,422,426,427,437,441,457,461,465,469,473,477,481,485,489,501,505,509,513,517,529,533,537,541,545,549,553,557,561,565,569,573,577,581,585,589,597,601,605,609,613,617,621,625,629,633,637,641,645,649,653,665,669,673,677,681,685,689,693,697,701,705,709,713,717,721,725,729,733,737,741,745,749,753,757,761,765,769,773,777,781,785,789,793,797,801,805,809,813,817,821,825,829,833,837,841,845,849,910,911,912,913,914,915,916,917,918,919,920,921,922,923,924,925,926,927,928,929,930,940,941,942,943,944,945,946,947,948,949,950,951,952,953,954,955,956) have mixed types.Specify dtype option on import or set low_memory=False.\n",
      "  if (await self.run_code(code, result,  async_=asy)):\n"
     ]
    },
    {
     "name": "stdout",
     "output_type": "stream",
     "text": [
      "jpn done\n",
      "kor\n"
     ]
    },
    {
     "name": "stderr",
     "output_type": "stream",
     "text": [
      "C:\\Users\\isaac\\Anaconda3\\lib\\site-packages\\IPython\\core\\interactiveshell.py:3337: DtypeWarning: Columns (6,7,8,9,10,14,15,16,17,21,22,23,47,48,50,53,56,59,72,73,75,104,106,107,108,117,118,240,251,252,253,254,255,256,257,258,259,260,261,262,263,264,265,266,267,268,269,270,271,281,282,283,284,285,286,287,288,289,290,291,292,293,294,295,296,299,308,309,315,316,317,318,319,320,321,322,323,324,379,384,385,388,389,390,392,393,394,395,396,397,398,399,401,402,405,409,410,411,414,419,421,422,426,427,430,432,433,434,435,436,437,441,449,453,457,461,465,469,473,477,481,485,489,493,497,501,505,509,513,517,521,525,529,533,537,541,545,553,557,561,565,569,573,577,581,585,589,593,597,601,605,609,613,617,621,625,629,633,637,641,645,649,653,657,661,669,673,677,681,685,689,693,697,701,705,709,713,717,721,725,729,733,737,741,745,749,753,757,761,765,769,773,777,785,789,793,797,801,805,809,813,817,821,825,829,833,837,841,845,849,896,897,898,899,900,901,902,903,904,906,907,908,909,910,911,912,913,914,915,916,917,918,919,920,921,922,923,924,925,926,927,928,929,930,931,932,933,934,935,936,937,938,939,940,941,943,944,945,946,947,948,949,950,951,952,953,954,955,956,976,978,980,982,984,986,988,990,992,994,996,998,1000,1002,1004,1006,1008,1010,1012,1014,1016,1018,1020,1022,1024,1026,1028,1030,1032,1034,1036,1038,1040,1042,1044,1046,1048,1050,1052,1054,1056,1058,1060,1062,1064,1066,1068,1070,1072,1074,1076,1078,1080,1082,1084,1086,1088,1090,1092,1094,1096,1098,1100,1102,1104,1106,1108,1110,1112,1114,1116,1118,1120,1122,1124,1126,1128,1130,1132,1134,1136,1138,1140,1142,1144,1146,1148,1150,1152,1154,1156,1280,1281,1282,1286,1304,1318) have mixed types.Specify dtype option on import or set low_memory=False.\n",
      "  if (await self.run_code(code, result,  async_=asy)):\n"
     ]
    },
    {
     "name": "stdout",
     "output_type": "stream",
     "text": [
      "kor done\n",
      "nld\n"
     ]
    },
    {
     "name": "stderr",
     "output_type": "stream",
     "text": [
      "C:\\Users\\isaac\\Anaconda3\\lib\\site-packages\\IPython\\core\\interactiveshell.py:3337: DtypeWarning: Columns (4,8,9,10,14,15,16,17,21,22,23,75,104,106,107,108,117,118,240,251,252,253,254,255,256,257,258,259,260,261,262,263,264,265,266,267,268,269,270,271,273,281,282,283,284,285,286,287,288,289,290,291,292,293,294,295,296,299,308,309,315,316,317,318,319,320,321,322,323,324,379,384,385,388,390,392,393,394,395,396,397,398,399,401,409,410,411,414,421,422,426,427,437,441,445,449,453,457,461,465,469,473,477,481,485,489,493,497,501,505,509,513,517,521,525,529,533,537,541,545,557,561,565,569,573,577,581,585,589,593,597,601,605,609,613,617,633,637,641,645,649,653,657,661,665,669,673,677,681,685,689,693,697,701,705,709,713,717,721,725,729,733,737,741,745,749,753,757,761,765,769,773,777,781,785,789,793,797,801,805,809,813,817,821,825,829,833,837,841,845,849,896,897,898,899,900,901,902,903,904,907,908,909,910,911,912,913,914,915,916,917,918,919,920,921,922,923,924,925,926,927,928,929,930,931,932,933,934,935,936,937,938,939,940,941,942,943,944,945,946,947,948,949,950,951,952,953,954,955,956,970,972,974,976,978,980,982,984,986,988,990,992,994,996,998,1000,1002,1004,1006,1008,1010,1012,1014,1016,1018,1020,1022,1024,1026,1028,1030,1032,1034,1036,1038,1040,1042,1044,1046,1048,1050,1052,1054,1056,1058,1060,1062,1064,1066,1068,1070,1072,1074,1076,1078,1080,1082,1084,1086,1088,1090,1092,1094,1096,1098,1100,1102,1104,1106,1108,1110,1112,1114,1116,1118,1120,1122,1124,1126,1128,1130,1132,1134,1136,1138,1140,1142,1144,1146,1148,1150,1152,1154,1156,1286,1304,1318,1324) have mixed types.Specify dtype option on import or set low_memory=False.\n",
      "  if (await self.run_code(code, result,  async_=asy)):\n"
     ]
    },
    {
     "name": "stdout",
     "output_type": "stream",
     "text": [
      "nld done\n",
      "nor\n"
     ]
    },
    {
     "name": "stderr",
     "output_type": "stream",
     "text": [
      "C:\\Users\\isaac\\Anaconda3\\lib\\site-packages\\IPython\\core\\interactiveshell.py:3337: DtypeWarning: Columns (6,7,8,9,10,14,15,16,17,21,22,23,47,48,50,53,56,59,72,73,75,104,106,107,108,115,116,117,118,240,251,252,253,254,255,256,257,258,259,260,261,262,263,264,265,266,267,268,269,270,271,273,274,275,276,277,278,279,280,281,282,283,284,285,286,287,288,289,290,291,292,293,294,295,296,297,299,308,309,315,316,317,318,319,320,321,322,323,324,377,384,385,388,389,390,392,393,394,395,396,397,398,399,401,402,405,409,410,411,414,416,417,418,419,420,421,422,426,427,430,432,433,434,435,436,437,441,445,449,453,457,465,469,473,477,481,485,489,493,497,501,505,509,513,517,521,525,529,533,537,541,545,557,561,565,569,573,577,581,585,589,593,597,605,609,613,617,633,637,641,645,653,657,661,665,669,673,677,681,685,689,693,697,701,705,709,713,717,721,725,729,733,737,741,745,749,753,757,761,765,769,773,777,781,785,789,793,797,801,805,809,813,817,821,825,829,833,837,841,845,849,896,897,898,899,900,901,902,903,904,906,907,908,909,910,911,912,913,914,915,916,917,918,919,920,921,922,923,924,925,926,927,928,929,930,931,932,933,934,935,936,937,938,939,940,941,942,943,944,945,946,947,948,949,950,951,952,953,954,955,956,958,960,962,964,966,968,970,972,974,976,978,980,982,984,986,988,990,992,994,996,998,1000,1002,1004,1006,1008,1010,1012,1014,1016,1018,1020,1022,1024,1026,1028,1030,1032,1034,1036,1038,1040,1042,1044,1046,1048,1050,1052,1054,1056,1058,1060,1062,1064,1066,1068,1070,1072,1074,1076,1078,1080,1082,1084,1086,1088,1090,1092,1094,1096,1098,1100,1102,1104,1106,1108,1110,1112,1114,1116,1118,1120,1122,1124,1126,1128,1130,1132,1134,1136,1138,1140,1142,1144,1146,1148,1150,1152,1154,1156,1282,1283,1284,1286,1304,1306,1307,1312,1318,1324) have mixed types.Specify dtype option on import or set low_memory=False.\n",
      "  if (await self.run_code(code, result,  async_=asy)):\n"
     ]
    },
    {
     "name": "stdout",
     "output_type": "stream",
     "text": [
      "nor done\n",
      "nzl\n"
     ]
    },
    {
     "name": "stderr",
     "output_type": "stream",
     "text": [
      "C:\\Users\\isaac\\Anaconda3\\lib\\site-packages\\IPython\\core\\interactiveshell.py:3337: DtypeWarning: Columns (6,7,9,10,15,17,21,23,106,119,120,241,252,253,254,255,256,257,258,259,260,261,262,263,264,265,266,267,268,269,270,271,272,274,282,283,284,285,286,287,288,289,290,291,292,293,294,295,296,297,300,309,310,316,317,318,321,322,325,385,386,389,390,391,393,394,396,397,398,399,400,402,406,410,411,412,427,428,434,437,439,440,441,442,443,461,475,485,489,493,497,501,505,513,517,521,525,529,533,537,541,545,549,553,557,561,565,569,573,577,581,585,589,593,597,601,605,609,613,617,621,625,629,633,637,645,649,653,657,661,665,669,673,677,681,689,693,697,705,709,713,717,721,725,729,733,737,741,745,749,753,757,761,765,769,773,777,781,785,789,793,797,801,805,809,813,817,821,825,829,833,837,841,845,849,853,857,861,865,869,873,877,881,885,889,893,897,944,945,946,947,948,949,950,952,954,955,956,957,958,959,960,961,962,963,964,965,966,967,968,969,970,971,972,973,974,975,976,977,978,979,980,981,982,983,984,985,986,987,988,989,990,991,992,993,994,995,996,997,998,999,1000,1001,1002,1003,1004,1006,1008,1010,1012,1014,1016,1018,1020,1022,1024,1026,1028,1030,1032,1034,1036,1038,1040,1042,1044,1046,1048,1050,1052,1054,1056,1058,1060,1062,1064,1066,1068,1070,1072,1074,1076,1078,1080,1082,1084,1086,1088,1090,1092,1094,1096,1098,1100,1102,1104,1106,1108,1110,1112,1114,1116,1118,1120,1122,1124,1126,1128,1130,1132,1134,1136,1138,1140,1142,1144,1146,1148,1150,1152,1154,1156,1158,1160,1162,1164,1166,1168,1170,1172,1174,1176,1178,1180,1182,1184,1186,1188,1190,1192,1194,1196,1198,1200,1202,1204) have mixed types.Specify dtype option on import or set low_memory=False.\n",
      "  if (await self.run_code(code, result,  async_=asy)):\n"
     ]
    },
    {
     "name": "stdout",
     "output_type": "stream",
     "text": [
      "nzl done\n",
      "sgp\n"
     ]
    },
    {
     "name": "stderr",
     "output_type": "stream",
     "text": [
      "C:\\Users\\isaac\\Anaconda3\\lib\\site-packages\\IPython\\core\\interactiveshell.py:3337: DtypeWarning: Columns (6,7,9,10,15,16,17,47,48,50,53,56,59,72,73,75,104,106,107,108,117,118,241,252,253,254,255,256,257,258,259,260,261,262,263,264,265,266,267,268,269,270,271,272,282,283,284,285,286,287,288,289,290,291,292,293,294,295,296,297,298,300,309,310,316,317,318,321,322,325,381,385,386,390,394,396,397,398,399,400,402,406,410,411,412,417,418,419,420,421,422,423,424,425,426,432,433,434,437,439,440,441,442,443,461,485,489,493,497,501,505,513,517,521,525,529,533,541,545,549,557,561,565,569,573,577,581,585,589,593,597,601,605,609,613,617,621,625,629,633,637,641,645,649,653,657,661,665,669,673,677,681,689,693,697,705,713,717,721,725,729,733,741,745,749,753,757,761,765,769,773,777,781,785,789,793,797,801,805,809,813,817,825,833,837,841,845,849,853,857,861,865,869,873,877,881,885,889,893,897,945,947,951,954,956,957,958,959,960,961,962,963,964,965,966,967,968,969,970,971,972,973,974,975,976,977,978,979,980,981,982,983,984,985,986,987,988,989,990,991,992,993,994,995,996,997,998,999,1000,1001,1002,1003,1004,1006,1008,1010,1012,1014,1016,1018,1020,1022,1024,1026,1028,1030,1032,1034,1036,1038,1040,1042,1044,1046,1048,1050,1052,1054,1056,1058,1060,1062,1064,1066,1068,1070,1072,1074,1076,1078,1080,1082,1084,1086,1088,1090,1092,1094,1096,1098,1100,1102,1104,1106,1108,1110,1112,1114,1116,1118,1120,1122,1124,1126,1128,1130,1132,1134,1136,1138,1140,1142,1144,1146,1148,1150,1152,1154,1156,1158,1160,1162,1164,1166,1168,1170,1172,1174,1176,1178,1180,1182,1184,1186,1188,1190,1192,1194,1196,1198,1200,1202,1204) have mixed types.Specify dtype option on import or set low_memory=False.\n",
      "  if (await self.run_code(code, result,  async_=asy)):\n"
     ]
    },
    {
     "name": "stdout",
     "output_type": "stream",
     "text": [
      "sgp done\n"
     ]
    },
    {
     "name": "stderr",
     "output_type": "stream",
     "text": [
      "C:\\Users\\isaac\\Anaconda3\\lib\\site-packages\\pandas\\core\\frame.py:3062: SettingWithCopyWarning: \n",
      "A value is trying to be set on a copy of a slice from a DataFrame.\n",
      "Try using .loc[row_indexer,col_indexer] = value instead\n",
      "\n",
      "See the caveats in the documentation: https://pandas.pydata.org/pandas-docs/stable/user_guide/indexing.html#returning-a-view-versus-a-copy\n",
      "  self[k1] = value[k2]\n",
      "C:\\Users\\isaac\\Documents\\Isaac\\Summer 2020\\MTI Internship Github\\process_data.py:399: SettingWithCopyWarning: \n",
      "A value is trying to be set on a copy of a slice from a DataFrame.\n",
      "Try using .loc[row_indexer,col_indexer] = value instead\n",
      "\n",
      "See the caveats in the documentation: https://pandas.pydata.org/pandas-docs/stable/user_guide/indexing.html#returning-a-view-versus-a-copy\n",
      "  df_employed['ICTWORK_WLE_CA'] = df_employed['ICTWORK_WLE_CA'].fillna(0)\n",
      "C:\\Users\\isaac\\Documents\\Isaac\\Summer 2020\\MTI Internship Github\\process_data.py:402: SettingWithCopyWarning: \n",
      "A value is trying to be set on a copy of a slice from a DataFrame.\n",
      "Try using .loc[row_indexer,col_indexer] = value instead\n",
      "\n",
      "See the caveats in the documentation: https://pandas.pydata.org/pandas-docs/stable/user_guide/indexing.html#returning-a-view-versus-a-copy\n",
      "  df_employed['WRITING_AVG'] = df_employed[['G_Q02a', 'G_Q02b', 'G_Q02c', 'G_Q02d']].apply(lambda x: x.mean(), axis = 1)\n",
      "C:\\Users\\isaac\\Documents\\Isaac\\Summer 2020\\MTI Internship Github\\process_data.py:404: SettingWithCopyWarning: \n",
      "A value is trying to be set on a copy of a slice from a DataFrame.\n",
      "Try using .loc[row_indexer,col_indexer] = value instead\n",
      "\n",
      "See the caveats in the documentation: https://pandas.pydata.org/pandas-docs/stable/user_guide/indexing.html#returning-a-view-versus-a-copy\n",
      "  'G_Q01e', 'G_Q01f','G_Q01g', 'G_Q01h']].apply(lambda x: x.mean(), axis = 1)\n",
      "C:\\Users\\isaac\\Documents\\Isaac\\Summer 2020\\MTI Internship Github\\process_data.py:406: SettingWithCopyWarning: \n",
      "A value is trying to be set on a copy of a slice from a DataFrame.\n",
      "Try using .loc[row_indexer,col_indexer] = value instead\n",
      "\n",
      "See the caveats in the documentation: https://pandas.pydata.org/pandas-docs/stable/user_guide/indexing.html#returning-a-view-versus-a-copy\n",
      "  'G_Q03g', 'G_Q03h']].apply(lambda x: x.mean(), axis = 1)\n",
      "C:\\Users\\isaac\\Documents\\Isaac\\Summer 2020\\MTI Internship Github\\process_data.py:408: SettingWithCopyWarning: \n",
      "A value is trying to be set on a copy of a slice from a DataFrame.\n",
      "Try using .loc[row_indexer,col_indexer] = value instead\n",
      "\n",
      "See the caveats in the documentation: https://pandas.pydata.org/pandas-docs/stable/user_guide/indexing.html#returning-a-view-versus-a-copy\n",
      "  'G_Q05g', 'G_Q05h',]].apply(lambda x: x.mean(), axis = 1)\n",
      "C:\\Users\\isaac\\Documents\\Isaac\\Summer 2020\\MTI Internship Github\\process_data.py:409: SettingWithCopyWarning: \n",
      "A value is trying to be set on a copy of a slice from a DataFrame.\n",
      "Try using .loc[row_indexer,col_indexer] = value instead\n",
      "\n",
      "See the caveats in the documentation: https://pandas.pydata.org/pandas-docs/stable/user_guide/indexing.html#returning-a-view-versus-a-copy\n",
      "  df_employed['PLANNING_AVG'] = df_employed[['F_Q03a', 'F_Q03b', 'F_Q03c']].apply(lambda x: x.mean(), axis = 1)\n",
      "C:\\Users\\isaac\\Documents\\Isaac\\Summer 2020\\MTI Internship Github\\process_data.py:411: SettingWithCopyWarning: \n",
      "A value is trying to be set on a copy of a slice from a DataFrame.\n",
      "Try using .loc[row_indexer,col_indexer] = value instead\n",
      "\n",
      "See the caveats in the documentation: https://pandas.pydata.org/pandas-docs/stable/user_guide/indexing.html#returning-a-view-versus-a-copy\n",
      "  'F_Q02c', 'F_Q02d', 'F_Q02e']].apply(lambda x: x.mean(), axis = 1)\n",
      "C:\\Users\\isaac\\Documents\\Isaac\\Summer 2020\\MTI Internship Github\\process_data.py:412: SettingWithCopyWarning: \n",
      "A value is trying to be set on a copy of a slice from a DataFrame.\n",
      "Try using .loc[row_indexer,col_indexer] = value instead\n",
      "\n",
      "See the caveats in the documentation: https://pandas.pydata.org/pandas-docs/stable/user_guide/indexing.html#returning-a-view-versus-a-copy\n",
      "  df_employed['PHYSICAL_AVG'] = df_employed[['F_Q06b', 'F_Q06c']].apply(lambda x: x.mean(), axis = 1)\n",
      "C:\\Users\\isaac\\Documents\\Isaac\\Summer 2020\\MTI Internship Github\\process_data.py:415: SettingWithCopyWarning: \n",
      "A value is trying to be set on a copy of a slice from a DataFrame.\n",
      "Try using .loc[row_indexer,col_indexer] = value instead\n",
      "\n",
      "See the caveats in the documentation: https://pandas.pydata.org/pandas-docs/stable/user_guide/indexing.html#returning-a-view-versus-a-copy\n",
      "  df_employed['KNOWLEDGE_AVG'] = df_employed[['ICT_AVG', 'NUMERACY_AVG', 'READING_AVG', 'WRITING_AVG']].apply(lambda x: x.mean(), axis = 1)\n",
      "C:\\Users\\isaac\\Documents\\Isaac\\Summer 2020\\MTI Internship Github\\process_data.py:416: SettingWithCopyWarning: \n",
      "A value is trying to be set on a copy of a slice from a DataFrame.\n",
      "Try using .loc[row_indexer,col_indexer] = value instead\n",
      "\n",
      "See the caveats in the documentation: https://pandas.pydata.org/pandas-docs/stable/user_guide/indexing.html#returning-a-view-versus-a-copy\n",
      "  df_employed['LEADERSHIP_AVG'] = df_employed[['PLANNING_AVG', 'INFLUENCE_AVG']].apply(lambda x: x.mean(), axis = 1)\n"
     ]
    }
   ],
   "source": [
    "df_all = get_all_countries_df(is_bootstrap = True)\n",
    "df_all = more_processing(df_all)\n",
    "df_all = skills_occ_industry_processing(df_all, rename_granular_skills = False)\n",
    "df_all = subset_dropna(df_all, keep_only_employed = False)\n",
    "df_all.to_csv('Data Processed/all_countries_processed.csv', index = False)"
   ]
  }
 ],
 "metadata": {
  "hide_input": false,
  "kernelspec": {
   "display_name": "Python 3",
   "language": "python",
   "name": "python3"
  },
  "language_info": {
   "codemirror_mode": {
    "name": "ipython",
    "version": 3
   },
   "file_extension": ".py",
   "mimetype": "text/x-python",
   "name": "python",
   "nbconvert_exporter": "python",
   "pygments_lexer": "ipython3",
   "version": "3.7.5"
  },
  "toc": {
   "base_numbering": 1,
   "nav_menu": {},
   "number_sections": true,
   "sideBar": true,
   "skip_h1_title": false,
   "title_cell": "Table of Contents",
   "title_sidebar": "Contents",
   "toc_cell": false,
   "toc_position": {},
   "toc_section_display": true,
   "toc_window_display": false
  },
  "varInspector": {
   "cols": {
    "lenName": 16,
    "lenType": 16,
    "lenVar": 40
   },
   "kernels_config": {
    "python": {
     "delete_cmd_postfix": "",
     "delete_cmd_prefix": "del ",
     "library": "var_list.py",
     "varRefreshCmd": "print(var_dic_list())"
    },
    "r": {
     "delete_cmd_postfix": ") ",
     "delete_cmd_prefix": "rm(",
     "library": "var_list.r",
     "varRefreshCmd": "cat(var_dic_list()) "
    }
   },
   "types_to_exclude": [
    "module",
    "function",
    "builtin_function_or_method",
    "instance",
    "_Feature"
   ],
   "window_display": false
  }
 },
 "nbformat": 4,
 "nbformat_minor": 4
}
